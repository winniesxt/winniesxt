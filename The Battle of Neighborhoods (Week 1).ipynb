{
    "cells": [
        {
            "cell_type": "markdown",
            "metadata": {
                "collapsed": true
            },
            "source": "BACKGROUND\n\nNew York City and Toronto are the famous places in the world. They are diverse in many ways. Both are multicultural as well as the financial hubs of their respective countries. Also, they attracts many to start their business.\n\nPROBLEM DESCRIPTION\n\nStart a business wants to segment neighborhoods of two cities, in this case, Toronto and New York, in terms of venues. Also, the average income and population density of boroughs of each city are needed to be explored.\n\nDATA PREPARATION\n\nThe necessary data sets were: Location data for Toronto and New York neighborhoods, Venues data, Population density and average income data for Toronto and New York. The data sets were imported from Wikipedia, IBM open data. Link of the data sets are given at the last of this post.\n\nWe\u2019ll discuss the process in two separate part:\n\nSegmentation of the neighborhoods Exploring the Average income and population density I\u2019ll use Python and it\u2019s various packages."
        },
        {
            "cell_type": "code",
            "execution_count": null,
            "metadata": {},
            "outputs": [],
            "source": ""
        }
    ],
    "metadata": {
        "kernelspec": {
            "display_name": "Python 3.6",
            "language": "python",
            "name": "python3"
        },
        "language_info": {
            "codemirror_mode": {
                "name": "ipython",
                "version": 3
            },
            "file_extension": ".py",
            "mimetype": "text/x-python",
            "name": "python",
            "nbconvert_exporter": "python",
            "pygments_lexer": "ipython3",
            "version": "3.6.9"
        }
    },
    "nbformat": 4,
    "nbformat_minor": 1
}